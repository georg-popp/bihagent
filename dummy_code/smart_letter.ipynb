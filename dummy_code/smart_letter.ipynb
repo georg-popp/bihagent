{
 "cells": [
  {
   "cell_type": "code",
   "execution_count": 2,
   "id": "11a05365",
   "metadata": {},
   "outputs": [],
   "source": [
    "import pandas as pd\n",
    "from PIL import Image\n",
    "import pytesseract\n",
    "\n",
    "# Define the path to the tesseract.exe file\n",
    "pytesseract.pytesseract.tesseract_cmd = r'C:\\\\Program Files\\\\Tesseract-OCR\\\\tesseract.exe'\n",
    "\n",
    "img_path = '../dummy_data/Bsp_Arztbrief.jpg' \n",
    "\n",
    "# Open the image file\n",
    "img = Image.open(img_path)\n",
    "\n",
    "# Use pytesseract to convert the image into text\n",
    "text = pytesseract.image_to_string(img)"
   ]
  },
  {
   "cell_type": "code",
   "execution_count": 17,
   "id": "c8aa1127",
   "metadata": {},
   "outputs": [
    {
     "name": "stdout",
     "output_type": "stream",
     "text": [
      "                        Kategorie  \\\n",
      "0    Name des behandelnden Arztes   \n",
      "1  Name des angesprochenen Arztes   \n",
      "2              Name des Patienten   \n",
      "3                        Diagnose   \n",
      "4                        Therapie   \n",
      "5              Behandlungsverlauf   \n",
      "6                        Ergebnis   \n",
      "\n",
      "                                              Inhalt  \n",
      "0                                        Prof. O. ne  \n",
      "1                                          Dr. me or  \n",
      "2                              N/A (nicht angegeben)  \n",
      "3   Hochgradig kombiniertes Aortenvitium mit Druc...  \n",
      "4   Implantation einer St. Jude Medical Gr. 25 in...  \n",
      "5   Erfolgreicher herzchirurgischer Eingriff am 2...  \n",
      "6   Komplikationsloser Verlauf erwartet, weitere ...  \n"
     ]
    }
   ],
   "source": [
    "import openai\n",
    "import json\n",
    "import pandas as pd\n",
    "\n",
    "openai.api_key = \"YOUR_API\"\n",
    "\n",
    "# Definieren Sie die Kategorien\n",
    "kategorien = [\n",
    "    \"Name des behandelnden Arztes\",\n",
    "    \"Name des angesprochenen Arztes\",\n",
    "    \"Name des Patienten\",\n",
    "    \"Diagnose\",\n",
    "    \"Therapie\",\n",
    "    \"Behandlungsverlauf\",\n",
    "    \"Ergebnis\"\n",
    "]\n",
    "\n",
    "# Definieren Sie den Text des Arztberichts\n",
    "arztbericht = text\n",
    "\n",
    "# Bereiten Sie den Prompt vor\n",
    "prompt = f\"Bitte kategorisieren Sie den folgenden Arztbericht in die angegebenen Kategorien: {arztbericht}\"\n",
    "\n",
    "# Fügen Sie die Kategorien zum Prompt hinzu\n",
    "for kategorie in kategorien:\n",
    "    prompt += f\"\\n\\n{kategorie}:\"\n",
    "\n",
    "# Senden Sie den Prompt an die ChatGPT API\n",
    "response = openai.ChatCompletion.create(\n",
    "  model=\"gpt-3.5-turbo\",\n",
    "  messages=[\n",
    "        {\"role\": \"system\", \"content\": \"You are a helpful assistant.\"},\n",
    "        {\"role\": \"user\", \"content\": prompt}\n",
    "    ]\n",
    ")\n",
    "\n",
    "# Extrahieren Sie die Antwort\n",
    "antwort = response.choices[0].message['content']\n",
    "\n",
    "# Erstellen Sie ein Wörterbuch aus der Antwort\n",
    "antwort_dict = dict(item.split(\":\") for item in antwort.split(\"\\n\") if item)\n",
    "\n",
    "# Überprüfen Sie die \"erratenen\" Namen und Inhalte\n",
    "# Hier können Sie eine Funktion hinzufügen, um die Gültigkeit der erratenen Namen und Inhalte zu überprüfen\n",
    "\n",
    "# Erstellen Sie eine Tabelle aus dem Wörterbuch\n",
    "tabelle = pd.DataFrame(list(antwort_dict.items()), columns=['Kategorie', 'Inhalt'])\n",
    "\n",
    "# Drucken Sie die Tabelle\n",
    "print(tabelle)\n"
   ]
  },
  {
   "cell_type": "code",
   "execution_count": 18,
   "metadata": {},
   "outputs": [
    {
     "name": "stdout",
     "output_type": "stream",
     "text": [
      "Name des behandelnden Arztes: Prof. O. ne\n",
      "Name des angesprochenen Arztes: Dr. me or\n",
      "Name des Patienten: N/A (nicht angegeben)\n",
      "Diagnose: Hochgradig kombiniertes Aortenvitium mit Druckgradient von 110 mmHG, Dekompensation. Supravalvulire Aortenstenose\n",
      "Therapie: Implantation einer St. Jude Medical Gr. 25 in Aortenposition, Patcherweiterung der Aorta ascendens supravalvular\n",
      "Behandlungsverlauf: Erfolgreicher herzchirurgischer Eingriff am 26.10.49, Patient befindet sich auf der Intensivstation, extubiert, Sinusrhythmus vorhanden, neuimplantierte Klappe arbeitet einwandfrei, keine Hinweise auf Dysfunktion, keine Substanzen notwendig\n",
      "Ergebnis: Komplikationsloser Verlauf erwartet, weitere Berichte folgen bei Verlegung\n"
     ]
    }
   ],
   "source": [
    "print(antwort)"
   ]
  }
 ],
 "metadata": {
  "kernelspec": {
   "display_name": "Python 3",
   "language": "python",
   "name": "python3"
  },
  "language_info": {
   "codemirror_mode": {
    "name": "ipython",
    "version": 3
   },
   "file_extension": ".py",
   "mimetype": "text/x-python",
   "name": "python",
   "nbconvert_exporter": "python",
   "pygments_lexer": "ipython3",
   "version": "3.11.5"
  }
 },
 "nbformat": 4,
 "nbformat_minor": 5
}
